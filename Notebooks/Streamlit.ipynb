{
 "cells": [
  {
   "cell_type": "code",
   "execution_count": 20,
   "metadata": {},
   "outputs": [],
   "source": [
    "#############\n",
    "# LIBRARIES #\n",
    "#############\n",
    "\n",
    "import os\n",
    "import pandas as pd\n",
    "import numpy as np\n",
    "\n",
    "import streamlit as st\n",
    "\n",
    "import pickle as pkl\n",
    "\n",
    "import warnings\n",
    "warnings.filterwarnings(\"ignore\")\n",
    "\n",
    "#########################################\n",
    "# LOADING MODEL AND ENCODER/TRANSFORMER #\n",
    "#########################################\n",
    "\n",
    "loaded_extraTree_model = pkl.load(open('../Model/final_model.pickle', 'rb'))\n",
    "loaded_encoder = pkl.load(open('../Model/feature_encoder.pickle', 'rb'))\n",
    "OldPeak_tranformer = pkl.load(open('../Model/OldPeak_tranformer.pickle', 'rb'))\n",
    "Cholesterol_transformer = pkl.load(open('../Model/Cholesterol_transformer.pickle', 'rb'))\n",
    "\n",
    "\"\"\"\n",
    "Data dictionary:\n",
    "- Age: age of the patient (years)\n",
    "- Sex: sex of the patient (M: Male, F: Female)\n",
    "- ChestPainType: chest pain type (TA: Typical Angina, ATA: Atypical Angina, NAP: Non-Anginal Pain, ASY: Asymptomatic)\n",
    "- RestingBP: resting blood pressure (mm Hg)\n",
    "- Cholesterol: serum cholesterol (mm/dl)\n",
    "- FastingBS: fasting blood sugar (1: if FastingBS > 120 mg/dl, 0: otherwise)\n",
    "- RestingECG: resting electrocardiogram results [Normal: Normal, ST: having ST-T wave abnormality (T wave inversions and/or ST elevation or depression of > 0.05 mV), LVH: showing probable or definite left ventricular hypertrophy by Estes' criteria]\n",
    "- MaxHR: maximum heart rate achieved (Numeric value between 60 and 202)\n",
    "- ExerciseAngina: exercise-induced angina (Y: Yes, N: No)\n",
    "- Oldpeak: oldpeak = ST (Numeric value measured in depression)\n",
    "- ST_Slope: the slope of the peak exercise ST segment (Up: upsloping, Flat: flat, Down: downsloping)\n",
    "- HeartDisease: output class [1: heart disease, 0: Normal]\n",
    "\"\"\"\n",
    "\n",
    "########################################################\n",
    "# FUNCTIONS FOR PROCESSING DATA AND MAKING PREDICTIONS #\n",
    "########################################################\n",
    "\n",
    "def process_data(user_input_df):\n",
    "    # user_input_df = pd.DataFrame(user_input) # Creating a dataframe containing user inputs\n",
    "\n",
    "    cat_cols = user_input_df.select_dtypes(include='object').columns\n",
    "    user_input_df[cat_cols] = user_input_df[cat_cols].astype('category')\n",
    "\n",
    "    user_input_df['FastingBS'] = np.where(user_input_df['FastingBS']=='No', 0, 1)\n",
    "    user_input_df['FastingBS'] = user_input_df['FastingBS'].astype('category') # Converting to type category for transforming\n",
    "    \n",
    "    # Encoding categorical features\n",
    "    categorical_columns = user_input_df.select_dtypes('category').columns\n",
    "    user_input_df[categorical_columns] = loaded_encoder.transform(user_input_df[categorical_columns])\n",
    "\n",
    "    # Transforming data\n",
    "    transformed_OldPeak = OldPeak_tranformer.transform(user_input_df[['Oldpeak']])\n",
    "    transformed_Cholesterol = Cholesterol_transformer.transform(user_input_df[['Cholesterol']])\n",
    "    transformed_RestingBP = np.log(user_input_df[['RestingBP']])\n",
    "    user_input_df['Oldpeak'] = transformed_OldPeak\n",
    "    user_input_df['Cholesterol'] = transformed_Cholesterol\n",
    "    user_input_df['RestingBP'] = transformed_RestingBP\n",
    "\n",
    "    return user_input_df\n",
    "\n",
    "def make_prediction(user_input_df):\n",
    "    prediction = loaded_extraTree_model.predict(user_input_df)\n",
    "    prediction_probability = loaded_extraTree_model.predict_proba(user_input_df).max()\n",
    "\n",
    "    results = prediction, prediction_probability\n",
    "    return results"
   ]
  },
  {
   "cell_type": "code",
   "execution_count": 21,
   "metadata": {},
   "outputs": [],
   "source": [
    "# User inputs\n",
    "age = int(input('Enter your age: '))\n",
    "sex = input('Enter your sex (M or F): ')\n",
    "restingBP = int(input('Enter your resting blood pressure: '))\n",
    "cholesterol = int(input('Enter your cholesterol level: '))\n",
    "fastingBS = input('Is you blood sugar level above 120 dl/mg when fasting (Y or N): ')\n",
    "MaxHR = int(input('Enter your max heart rate: '))\n",
    "ExerciseAngina = input('Do you experience excercise-enduced engina (Y or N): ')\n",
    "Oldpeak = int(input('Enter your old peak value: '))\n",
    "ChestPainType = input('Describe you type of chest pains (ATA, NAP, ASY, TA): ')\n",
    "stSlope = input('Enter your ST Slode (Up, Flat, Down): ')\n",
    "RestingECG = input('Enter your resting ECG (Normal, ST, LVH): ')"
   ]
  },
  {
   "cell_type": "code",
   "execution_count": 22,
   "metadata": {},
   "outputs": [
    {
     "data": {
      "text/html": [
       "<div>\n",
       "<style scoped>\n",
       "    .dataframe tbody tr th:only-of-type {\n",
       "        vertical-align: middle;\n",
       "    }\n",
       "\n",
       "    .dataframe tbody tr th {\n",
       "        vertical-align: top;\n",
       "    }\n",
       "\n",
       "    .dataframe thead th {\n",
       "        text-align: right;\n",
       "    }\n",
       "</style>\n",
       "<table border=\"1\" class=\"dataframe\">\n",
       "  <thead>\n",
       "    <tr style=\"text-align: right;\">\n",
       "      <th></th>\n",
       "      <th>Age</th>\n",
       "      <th>Sex</th>\n",
       "      <th>ChestPainType</th>\n",
       "      <th>RestingBP</th>\n",
       "      <th>Cholesterol</th>\n",
       "      <th>FastingBS</th>\n",
       "      <th>RestingECG</th>\n",
       "      <th>MaxHR</th>\n",
       "      <th>ExerciseAngina</th>\n",
       "      <th>Oldpeak</th>\n",
       "      <th>ST_Slope</th>\n",
       "    </tr>\n",
       "  </thead>\n",
       "  <tbody>\n",
       "    <tr>\n",
       "      <th>0</th>\n",
       "      <td>41</td>\n",
       "      <td>M</td>\n",
       "      <td>ATA</td>\n",
       "      <td>140</td>\n",
       "      <td>180</td>\n",
       "      <td>Y</td>\n",
       "      <td>ST</td>\n",
       "      <td>190</td>\n",
       "      <td>Y</td>\n",
       "      <td>1</td>\n",
       "      <td>Flat</td>\n",
       "    </tr>\n",
       "  </tbody>\n",
       "</table>\n",
       "</div>"
      ],
      "text/plain": [
       "   Age Sex ChestPainType  RestingBP  Cholesterol FastingBS RestingECG  MaxHR  \\\n",
       "0   41   M           ATA        140          180         Y         ST    190   \n",
       "\n",
       "  ExerciseAngina  Oldpeak ST_Slope  \n",
       "0              Y        1     Flat  "
      ]
     },
     "execution_count": 22,
     "metadata": {},
     "output_type": "execute_result"
    }
   ],
   "source": [
    "user_input = {\n",
    "                'Age': [age], \n",
    "                'Sex': [sex],\n",
    "                'ChestPainType': [ChestPainType], \n",
    "                'RestingBP': [restingBP], \n",
    "                'Cholesterol': [cholesterol],\n",
    "                'FastingBS': [fastingBS],\n",
    "                'RestingECG': [RestingECG],\n",
    "                'MaxHR': [MaxHR],\n",
    "                'ExerciseAngina': [ExerciseAngina],\n",
    "                'Oldpeak': [Oldpeak],\n",
    "                'ST_Slope': [stSlope],\n",
    "}\n",
    "user_input_df = pd.DataFrame(user_input) # Creating a dataframe containing user inputs\n",
    "\n",
    "user_input_df"
   ]
  },
  {
   "cell_type": "code",
   "execution_count": 23,
   "metadata": {},
   "outputs": [],
   "source": [
    "processed_data = process_data(user_input_df)\n",
    "results = make_prediction(processed_data)"
   ]
  },
  {
   "cell_type": "code",
   "execution_count": 24,
   "metadata": {},
   "outputs": [
    {
     "name": "stdout",
     "output_type": "stream",
     "text": [
      "You ARE at risk for heart disease!--Prediction Confidence: 81%.\n"
     ]
    }
   ],
   "source": [
    "if results[0] == 0:\n",
    "    print(f'You are not at risk for heart disease.--Prediction Confidence: {\"{:.0%}\".format(results[1])}.')\n",
    "else:\n",
    "    print(f'You ARE at risk for heart disease!--Prediction Confidence: {\"{:.0%}\".format(results[1])}.')"
   ]
  },
  {
   "cell_type": "code",
   "execution_count": 12,
   "metadata": {},
   "outputs": [],
   "source": [
    "#############\n",
    "# STREAMLIT #\n",
    "#############\n",
    "\n",
    "st.set_page_config(page_title=\"Healthy Heart App\",page_icon=\"⚕️\",layout=\"centered\",initial_sidebar_state=\"expanded\")\n",
    "\n"
   ]
  }
 ],
 "metadata": {
  "interpreter": {
   "hash": "31f2aee4e71d21fbe5cf8b01ff0e069b9275f58929596ceb00d14d90e3e16cd6"
  },
  "kernelspec": {
   "display_name": "Python 3.8.9 64-bit",
   "language": "python",
   "name": "python3"
  },
  "language_info": {
   "codemirror_mode": {
    "name": "ipython",
    "version": 3
   },
   "file_extension": ".py",
   "mimetype": "text/x-python",
   "name": "python",
   "nbconvert_exporter": "python",
   "pygments_lexer": "ipython3",
   "version": "3.8.12"
  },
  "orig_nbformat": 4
 },
 "nbformat": 4,
 "nbformat_minor": 2
}
